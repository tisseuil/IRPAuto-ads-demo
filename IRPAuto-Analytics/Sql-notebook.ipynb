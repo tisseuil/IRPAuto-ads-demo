{
    "metadata": {
        "kernelspec": {
            "name": "SQL",
            "display_name": "SQL",
            "language": "sql"
        },
        "language_info": {
            "name": "sql",
            "version": ""
        }
    },
    "nbformat_minor": 2,
    "nbformat": 4,
    "cells": [
        {
            "cell_type": "code",
            "source": [
                "SELECT TOP 5 * FROM dbo.T_Dim_Produit ;"
            ],
            "metadata": {
                "azdata_cell_guid": "4fa4cc97-85e8-407c-8633-462deac91b1a",
                "language": "sql"
            },
            "outputs": [
                {
                    "output_type": "display_data",
                    "data": {
                        "text/html": "(5 rows affected)"
                    },
                    "metadata": {}
                },
                {
                    "output_type": "display_data",
                    "data": {
                        "text/html": "Total execution time: 00:00:00.215"
                    },
                    "metadata": {}
                },
                {
                    "output_type": "execute_result",
                    "execution_count": 1,
                    "data": {
                        "application/vnd.dataresource+json": {
                            "schema": {
                                "fields": [
                                    {
                                        "name": "Produit_PK"
                                    },
                                    {
                                        "name": "Produit_ID"
                                    },
                                    {
                                        "name": "Produit_CODE"
                                    },
                                    {
                                        "name": "LibelleCourt_NOM"
                                    },
                                    {
                                        "name": "LibelleLong_NOM"
                                    },
                                    {
                                        "name": "BrancheAssurance_NOM"
                                    },
                                    {
                                        "name": "SousBrancheAssurance_NOM"
                                    },
                                    {
                                        "name": "Categorie_NOM"
                                    },
                                    {
                                        "name": "FamilleProduit_NOM"
                                    },
                                    {
                                        "name": "TypeOffre_NOM"
                                    },
                                    {
                                        "name": "TNS_FLAG"
                                    },
                                    {
                                        "name": "Produit_DATECRE"
                                    },
                                    {
                                        "name": "Produit_DATEMOD"
                                    },
                                    {
                                        "name": "Produit_DEBUTVAL"
                                    },
                                    {
                                        "name": "Produit_FINVAL"
                                    }
                                ]
                            },
                            "data": [
                                {
                                    "0": "1",
                                    "1": "aRKfV0000RNrv",
                                    "2": "SI_GRURE_01",
                                    "3": "GRUAU RETRAITES",
                                    "4": "GRUAU RETRAITES",
                                    "5": "SANTE",
                                    "6": "Epargne",
                                    "7": "ASSURANCE DE PERSONNES",
                                    "8": "individuel",
                                    "9": "STANDARD",
                                    "10": "NON",
                                    "11": "2023-02-01",
                                    "12": "2023-02-01",
                                    "13": "2023-01-31",
                                    "14": "9999-12-31"
                                },
                                {
                                    "0": "2",
                                    "1": "aRKfV0000ROtJ",
                                    "2": "SC_OPCOMOBI",
                                    "3": "OPCO MOBILITES COLL",
                                    "4": "Contrat particulier",
                                    "5": "SANTE",
                                    "6": "Epargne",
                                    "7": "ASSURANCE DE PERSONNES",
                                    "8": "collectif",
                                    "9": "SUR-MESURE",
                                    "10": "NON",
                                    "11": "2023-02-01",
                                    "12": "2023-02-01",
                                    "13": "2023-01-31",
                                    "14": "9999-12-31"
                                },
                                {
                                    "0": "25",
                                    "1": "aRKfV0000RNfa",
                                    "2": "SI_GRU2_01",
                                    "3": "GRUAU 2 EVIN",
                                    "4": "GRUAU 2 EVIN",
                                    "5": "SANTE",
                                    "6": "Epargne",
                                    "7": "ASSURANCE DE PERSONNES",
                                    "8": "individuel",
                                    "9": "STANDARD",
                                    "10": "NON",
                                    "11": "2023-02-01",
                                    "12": "2023-02-01",
                                    "13": "2023-01-31",
                                    "14": "9999-12-31"
                                },
                                {
                                    "0": "26",
                                    "1": "aRKfV0000RLqR",
                                    "2": "PC_BPM_3",
                                    "3": "BPM GROUP 3 SAMI AQUITAINE",
                                    "4": "Contrat particulier",
                                    "5": "PREVOYANCE",
                                    "6": "Autres",
                                    "7": "ASSURANCE DE PERSONNES",
                                    "8": "collectif",
                                    "9": "SUR-MESURE",
                                    "10": "NON",
                                    "11": "2023-02-01",
                                    "12": "2023-02-01",
                                    "13": "2023-01-31",
                                    "14": "9999-12-31"
                                },
                                {
                                    "0": "31",
                                    "1": "aRKfV0000RKE7",
                                    "2": "SC_CLFOURNI",
                                    "3": "CLAUDE FOURNIS COLL",
                                    "4": "Contrat particulier",
                                    "5": "SANTE",
                                    "6": "Epargne",
                                    "7": "ASSURANCE DE PERSONNES",
                                    "8": "collectif",
                                    "9": "SUR-MESURE",
                                    "10": "NON",
                                    "11": "2023-02-01",
                                    "12": "2023-02-01",
                                    "13": "2023-01-31",
                                    "14": "9999-12-31"
                                }
                            ]
                        },
                        "text/html": "<table><tr><th>Produit_PK</th><th>Produit_ID</th><th>Produit_CODE</th><th>LibelleCourt_NOM</th><th>LibelleLong_NOM</th><th>BrancheAssurance_NOM</th><th>SousBrancheAssurance_NOM</th><th>Categorie_NOM</th><th>FamilleProduit_NOM</th><th>TypeOffre_NOM</th><th>TNS_FLAG</th><th>Produit_DATECRE</th><th>Produit_DATEMOD</th><th>Produit_DEBUTVAL</th><th>Produit_FINVAL</th></tr><tr><td>1</td><td>aRKfV0000RNrv</td><td>SI_GRURE_01</td><td>GRUAU RETRAITES</td><td>GRUAU RETRAITES</td><td>SANTE</td><td>Epargne</td><td>ASSURANCE DE PERSONNES</td><td>individuel</td><td>STANDARD</td><td>NON</td><td>2023-02-01</td><td>2023-02-01</td><td>2023-01-31</td><td>9999-12-31</td></tr><tr><td>2</td><td>aRKfV0000ROtJ</td><td>SC_OPCOMOBI</td><td>OPCO MOBILITES COLL</td><td>Contrat particulier</td><td>SANTE</td><td>Epargne</td><td>ASSURANCE DE PERSONNES</td><td>collectif</td><td>SUR-MESURE</td><td>NON</td><td>2023-02-01</td><td>2023-02-01</td><td>2023-01-31</td><td>9999-12-31</td></tr><tr><td>25</td><td>aRKfV0000RNfa</td><td>SI_GRU2_01</td><td>GRUAU 2 EVIN</td><td>GRUAU 2 EVIN</td><td>SANTE</td><td>Epargne</td><td>ASSURANCE DE PERSONNES</td><td>individuel</td><td>STANDARD</td><td>NON</td><td>2023-02-01</td><td>2023-02-01</td><td>2023-01-31</td><td>9999-12-31</td></tr><tr><td>26</td><td>aRKfV0000RLqR</td><td>PC_BPM_3</td><td>BPM GROUP 3 SAMI AQUITAINE</td><td>Contrat particulier</td><td>PREVOYANCE</td><td>Autres</td><td>ASSURANCE DE PERSONNES</td><td>collectif</td><td>SUR-MESURE</td><td>NON</td><td>2023-02-01</td><td>2023-02-01</td><td>2023-01-31</td><td>9999-12-31</td></tr><tr><td>31</td><td>aRKfV0000RKE7</td><td>SC_CLFOURNI</td><td>CLAUDE FOURNIS COLL</td><td>Contrat particulier</td><td>SANTE</td><td>Epargne</td><td>ASSURANCE DE PERSONNES</td><td>collectif</td><td>SUR-MESURE</td><td>NON</td><td>2023-02-01</td><td>2023-02-01</td><td>2023-01-31</td><td>9999-12-31</td></tr></table>"
                    },
                    "metadata": {
                        "azdata_chartOptions": {
                            "type": "bar",
                            "dataDirection": "horizontal",
                            "columnsAsLabels": true,
                            "labelFirstColumn": false,
                            "legendPosition": "top"
                        }
                    }
                }
            ],
            "execution_count": 1
        },
        {
            "cell_type": "code",
            "source": [
                "SELECT --distinct\r\n",
                "\tEtablissement_ID, ETB.CodeNace_FID, Entreprise_FID, \r\n",
                "\t-- Adresse\r\n",
                "\tDepartement_CODE, \r\n",
                "\tconcat(Adresse1_NOM,' ',CodePostal_CODE,' ',Ville_NOM) AS AdressePostale_CODE,  Pays_CODE,\r\n",
                "\tFormeJuridique_FID, Etablissement_CODE,Etablissement_NOM, Siret_CODE,Creation_DATE,Fermeture_DATE,TypeEtablissement_NOM,GrandCompte_FLAG, \r\n",
                "\t SocieteMere_FLAG,ConventionCollective_NOM, VIP_FLAG,\r\n",
                "\t Telephone_NUM, T_Dim_AdresseTelephonique.CategorieAdresse_FID\r\n",
                "\tFROM dbo.T_Dim_Etablissement ETB\r\n",
                "\tINNER JOIN dbo.T_Dim_CodeNace on ETB.CodeNace_FID = T_Dim_CodeNace.CodeNace_ID\r\n",
                "\tINNER JOIN dbo.T_Dim_ConventionCollective on ConventionCollective_FID = ConventionCollective_ID\r\n",
                "\tINNER JOIN dbo.T_Dim_AdressePostale on T_Dim_AdressePostale.Personne_FID = ETB.Etablissement_ID\r\n",
                "\tINNER JOIN dbo.T_Dim_Localisation on Localisation_FID = Localisation_ID\r\n",
                "\tINNER JOIN dbo.T_Dim_Pays on T_Dim_AdressePostale.Pays_FID = T_Dim_Pays.Pays_ID\r\n",
                "\tLEFT OUTER JOIN dbo.T_Dim_AdresseTelephonique on T_Dim_AdresseTelephonique.Personne_FID = Etablissement_ID\r\n",
                "\tINNER JOIN dbo.T_Dim_Entreprise on Entreprise_FID = Entreprise_ID \r\n",
                "\twhere Siret_CODE ='Z1485258520015' or Siret_CODE ='B0123456789123' \r\n",
                "\r\n",
                "--Z1485258520015\r\n",
                "--B0123456789123\r\n",
                "--W1485215210015\r\n",
                "--W1485215210015"
            ],
            "metadata": {
                "azdata_cell_guid": "99c89d32-24d8-46e6-ba90-bde235c446f2",
                "language": "sql"
            },
            "outputs": [
                {
                    "output_type": "display_data",
                    "data": {
                        "text/html": "(2 rows affected)"
                    },
                    "metadata": {}
                },
                {
                    "output_type": "display_data",
                    "data": {
                        "text/html": "Total execution time: 00:00:03.743"
                    },
                    "metadata": {}
                },
                {
                    "output_type": "execute_result",
                    "execution_count": 2,
                    "data": {
                        "application/vnd.dataresource+json": {
                            "schema": {
                                "fields": [
                                    {
                                        "name": "Etablissement_ID"
                                    },
                                    {
                                        "name": "CodeNace_FID"
                                    },
                                    {
                                        "name": "Entreprise_FID"
                                    },
                                    {
                                        "name": "Departement_CODE"
                                    },
                                    {
                                        "name": "AdressePostale_CODE"
                                    },
                                    {
                                        "name": "Pays_CODE"
                                    },
                                    {
                                        "name": "FormeJuridique_FID"
                                    },
                                    {
                                        "name": "Etablissement_CODE"
                                    },
                                    {
                                        "name": "Etablissement_NOM"
                                    },
                                    {
                                        "name": "Siret_CODE"
                                    },
                                    {
                                        "name": "Creation_DATE"
                                    },
                                    {
                                        "name": "Fermeture_DATE"
                                    },
                                    {
                                        "name": "TypeEtablissement_NOM"
                                    },
                                    {
                                        "name": "GrandCompte_FLAG"
                                    },
                                    {
                                        "name": "SocieteMere_FLAG"
                                    },
                                    {
                                        "name": "ConventionCollective_NOM"
                                    },
                                    {
                                        "name": "VIP_FLAG"
                                    },
                                    {
                                        "name": "Telephone_NUM"
                                    },
                                    {
                                        "name": "CategorieAdresse_FID"
                                    }
                                ]
                            },
                            "data": [
                                {
                                    "0": "m36vA00003qTt",
                                    "1": "45.20A",
                                    "2": "-1",
                                    "3": "NULL",
                                    "4": "18 rue des clans 75016 PARIS",
                                    "5": "FR",
                                    "6": "sa",
                                    "7": "100055840",
                                    "8": "EXPERT PARIS",
                                    "9": "Z1485258520015",
                                    "10": "2021-01-01",
                                    "11": "9999-12-31",
                                    "12": "Unique",
                                    "13": "Non",
                                    "14": "Non",
                                    "15": "Convention collective nationale des services de l'automobile (commerce et réparation de l'automobile, du cycle et du motocycle, activités connexes, contrôle technique automobile, formation des conducteurs auto-écoles CNPA )",
                                    "16": "Non",
                                    "17": "NULL",
                                    "18": "NULL"
                                },
                                {
                                    "0": "m36vA00003zB5",
                                    "1": "45.20A",
                                    "2": "-1",
                                    "3": "NULL",
                                    "4": "91 Bd Pasteur 75010 PARIS",
                                    "5": "FR",
                                    "6": "sa",
                                    "7": "100061483",
                                    "8": "TOTO CAEN",
                                    "9": "B0123456789123",
                                    "10": "2020-10-17",
                                    "11": "9999-12-31",
                                    "12": "Siège",
                                    "13": "Non",
                                    "14": "Non",
                                    "15": "Convention collective nationale des services de l'automobile (commerce et réparation de l'automobile, du cycle et du motocycle, activités connexes, contrôle technique automobile, formation des conducteurs auto-écoles CNPA )",
                                    "16": "Non",
                                    "17": "NULL",
                                    "18": "NULL"
                                }
                            ]
                        },
                        "text/html": "<table><tr><th>Etablissement_ID</th><th>CodeNace_FID</th><th>Entreprise_FID</th><th>Departement_CODE</th><th>AdressePostale_CODE</th><th>Pays_CODE</th><th>FormeJuridique_FID</th><th>Etablissement_CODE</th><th>Etablissement_NOM</th><th>Siret_CODE</th><th>Creation_DATE</th><th>Fermeture_DATE</th><th>TypeEtablissement_NOM</th><th>GrandCompte_FLAG</th><th>SocieteMere_FLAG</th><th>ConventionCollective_NOM</th><th>VIP_FLAG</th><th>Telephone_NUM</th><th>CategorieAdresse_FID</th></tr><tr><td>m36vA00003qTt</td><td>45.20A</td><td>-1</td><td>NULL</td><td>18 rue des clans 75016 PARIS</td><td>FR</td><td>sa</td><td>100055840</td><td>EXPERT PARIS</td><td>Z1485258520015</td><td>2021-01-01</td><td>9999-12-31</td><td>Unique</td><td>Non</td><td>Non</td><td>Convention collective nationale des services de l'automobile (commerce et réparation de l'automobile, du cycle et du motocycle, activités connexes, contrôle technique automobile, formation des conducteurs auto-écoles CNPA )</td><td>Non</td><td>NULL</td><td>NULL</td></tr><tr><td>m36vA00003zB5</td><td>45.20A</td><td>-1</td><td>NULL</td><td>91 Bd Pasteur 75010 PARIS</td><td>FR</td><td>sa</td><td>100061483</td><td>TOTO CAEN</td><td>B0123456789123</td><td>2020-10-17</td><td>9999-12-31</td><td>Siège</td><td>Non</td><td>Non</td><td>Convention collective nationale des services de l'automobile (commerce et réparation de l'automobile, du cycle et du motocycle, activités connexes, contrôle technique automobile, formation des conducteurs auto-écoles CNPA )</td><td>Non</td><td>NULL</td><td>NULL</td></tr></table>"
                    },
                    "metadata": {}
                }
            ],
            "execution_count": 2
        }
    ]
}