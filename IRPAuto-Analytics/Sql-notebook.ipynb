{
    "metadata": {
        "kernelspec": {
            "name": "SQL",
            "display_name": "SQL",
            "language": "sql"
        },
        "language_info": {
            "name": "sql",
            "version": ""
        }
    },
    "nbformat_minor": 2,
    "nbformat": 4,
    "cells": [
        {
            "cell_type": "code",
            "source": [
                "SELECT TOP 10 --distinct\r\n",
                "\tEtablissement_ID, ETB.CodeNace_FID, Entreprise_FID, \r\n",
                "\t-- Adresse\r\n",
                "\tDepartement_CODE, \r\n",
                "\tconcat(Adresse1_NOM,' ',CodePostal_CODE,' ',Ville_NOM) AS AdressePostale_CODE,  Pays_CODE,\r\n",
                "\tFormeJuridique_FID, Etablissement_CODE,Etablissement_NOM, Siret_CODE,Creation_DATE,Fermeture_DATE,TypeEtablissement_NOM,GrandCompte_FLAG, \r\n",
                "\t SocieteMere_FLAG,ConventionCollective_NOM, VIP_FLAG,\r\n",
                "\t Telephone_NUM, T_Dim_AdresseTelephonique.CategorieAdresse_FID\r\n",
                "\tFROM dbo.T_Dim_Etablissement ETB\r\n",
                "\tINNER JOIN dbo.T_Dim_CodeNace on ETB.CodeNace_FID = T_Dim_CodeNace.CodeNace_ID\r\n",
                "\tINNER JOIN dbo.T_Dim_ConventionCollective on ConventionCollective_FID = ConventionCollective_ID\r\n",
                "\tINNER JOIN dbo.T_Dim_AdressePostale on T_Dim_AdressePostale.Personne_FID = ETB.Etablissement_ID\r\n",
                "\tINNER JOIN dbo.T_Dim_Localisation on Localisation_FID = Localisation_ID\r\n",
                "\tINNER JOIN dbo.T_Dim_Pays on T_Dim_AdressePostale.Pays_FID = T_Dim_Pays.Pays_ID\r\n",
                "\tLEFT OUTER JOIN dbo.T_Dim_AdresseTelephonique on T_Dim_AdresseTelephonique.Personne_FID = Etablissement_ID\r\n",
                "\tINNER JOIN dbo.T_Dim_Entreprise on Entreprise_FID = Entreprise_ID \r\n",
                "\twhere Siret_CODE ='Z1485258520015' ; \r\n",
                "\r\n",
                "--Z1485258520015\r\n",
                "--B0123456789123\r\n",
                "--W1485215210015\r\n",
                "--W1485215210015"
            ],
            "metadata": {
                "azdata_cell_guid": "99c89d32-24d8-46e6-ba90-bde235c446f2",
                "language": "sql"
            },
            "outputs": [
                {
                    "output_type": "display_data",
                    "data": {
                        "text/html": "(10 rows affected)"
                    },
                    "metadata": {}
                },
                {
                    "output_type": "display_data",
                    "data": {
                        "text/html": "Total execution time: 00:00:02.937"
                    },
                    "metadata": {}
                },
                {
                    "output_type": "execute_result",
                    "metadata": {},
                    "execution_count": 38,
                    "data": {
                        "application/vnd.dataresource+json": {
                            "schema": {
                                "fields": [
                                    {
                                        "name": "Etablissement_ID"
                                    },
                                    {
                                        "name": "CodeNace_FID"
                                    },
                                    {
                                        "name": "Entreprise_FID"
                                    },
                                    {
                                        "name": "Departement_CODE"
                                    },
                                    {
                                        "name": "AdressePostale_CODE"
                                    },
                                    {
                                        "name": "Pays_CODE"
                                    },
                                    {
                                        "name": "FormeJuridique_FID"
                                    },
                                    {
                                        "name": "Etablissement_CODE"
                                    },
                                    {
                                        "name": "Etablissement_NOM"
                                    },
                                    {
                                        "name": "Siret_CODE"
                                    },
                                    {
                                        "name": "Creation_DATE"
                                    },
                                    {
                                        "name": "Fermeture_DATE"
                                    },
                                    {
                                        "name": "TypeEtablissement_NOM"
                                    },
                                    {
                                        "name": "GrandCompte_FLAG"
                                    },
                                    {
                                        "name": "SocieteMere_FLAG"
                                    },
                                    {
                                        "name": "ConventionCollective_NOM"
                                    },
                                    {
                                        "name": "VIP_FLAG"
                                    },
                                    {
                                        "name": "Telephone_NUM"
                                    },
                                    {
                                        "name": "CategorieAdresse_FID"
                                    }
                                ]
                            },
                            "data": [
                                {
                                    "0": "m36vA00003qTt",
                                    "1": "45.20A",
                                    "2": "m36vA00003qTt",
                                    "3": "NULL",
                                    "4": "18 rue des clans 75016 PARIS",
                                    "5": "FR",
                                    "6": "sa",
                                    "7": "100055840",
                                    "8": "EXPERT PARIS",
                                    "9": "Z1485258520015",
                                    "10": "2021-01-01",
                                    "11": "9999-12-31",
                                    "12": "Unique",
                                    "13": "Non",
                                    "14": "Non",
                                    "15": "Convention collective nationale des services de l'automobile (commerce et réparation de l'automobile, du cycle et du motocycle, activités connexes, contrôle technique automobile, formation des conducteurs auto-écoles CNPA )",
                                    "16": "Non",
                                    "17": "NULL",
                                    "18": "NULL"
                                },
                                {
                                    "0": "m36vA00003qTt",
                                    "1": "45.20A",
                                    "2": "m36vA00003qTt",
                                    "3": "NULL",
                                    "4": "18 rue des clans 75016 PARIS",
                                    "5": "FR",
                                    "6": "sa",
                                    "7": "100055840",
                                    "8": "EXPERT PARIS",
                                    "9": "Z1485258520015",
                                    "10": "2021-01-01",
                                    "11": "9999-12-31",
                                    "12": "Unique",
                                    "13": "Non",
                                    "14": "Non",
                                    "15": "Convention collective nationale des services de l'automobile (commerce et réparation de l'automobile, du cycle et du motocycle, activités connexes, contrôle technique automobile, formation des conducteurs auto-écoles CNPA )",
                                    "16": "Non",
                                    "17": "NULL",
                                    "18": "NULL"
                                },
                                {
                                    "0": "m36vA00003qTt",
                                    "1": "45.20A",
                                    "2": "m36vA00003qTt",
                                    "3": "NULL",
                                    "4": "18 rue des clans 75016 PARIS",
                                    "5": "FR",
                                    "6": "sa",
                                    "7": "100055840",
                                    "8": "EXPERT PARIS",
                                    "9": "Z1485258520015",
                                    "10": "2021-01-01",
                                    "11": "9999-12-31",
                                    "12": "Unique",
                                    "13": "Non",
                                    "14": "Non",
                                    "15": "Convention collective nationale des services de l'automobile (commerce et réparation de l'automobile, du cycle et du motocycle, activités connexes, contrôle technique automobile, formation des conducteurs auto-écoles CNPA )",
                                    "16": "Non",
                                    "17": "NULL",
                                    "18": "NULL"
                                },
                                {
                                    "0": "m36vA00003qTt",
                                    "1": "45.20A",
                                    "2": "m36vA00003qTt",
                                    "3": "NULL",
                                    "4": "18 rue des clans 75016 PARIS",
                                    "5": "FR",
                                    "6": "sa",
                                    "7": "100055840",
                                    "8": "EXPERT PARIS",
                                    "9": "Z1485258520015",
                                    "10": "2021-01-01",
                                    "11": "9999-12-31",
                                    "12": "Unique",
                                    "13": "Non",
                                    "14": "Non",
                                    "15": "Convention collective nationale des services de l'automobile (commerce et réparation de l'automobile, du cycle et du motocycle, activités connexes, contrôle technique automobile, formation des conducteurs auto-écoles CNPA )",
                                    "16": "Non",
                                    "17": "NULL",
                                    "18": "NULL"
                                },
                                {
                                    "0": "m36vA00003qTt",
                                    "1": "45.20A",
                                    "2": "m36vA00003qTt",
                                    "3": "NULL",
                                    "4": "18 rue des clans 75016 PARIS",
                                    "5": "FR",
                                    "6": "sa",
                                    "7": "100055840",
                                    "8": "EXPERT PARIS",
                                    "9": "Z1485258520015",
                                    "10": "2021-01-01",
                                    "11": "9999-12-31",
                                    "12": "Unique",
                                    "13": "Non",
                                    "14": "Non",
                                    "15": "Convention collective nationale des services de l'automobile (commerce et réparation de l'automobile, du cycle et du motocycle, activités connexes, contrôle technique automobile, formation des conducteurs auto-écoles CNPA )",
                                    "16": "Non",
                                    "17": "NULL",
                                    "18": "NULL"
                                },
                                {
                                    "0": "m36vA00003qTt",
                                    "1": "45.20A",
                                    "2": "m36vA00003qTt",
                                    "3": "NULL",
                                    "4": "18 rue des clans 75016 PARIS",
                                    "5": "FR",
                                    "6": "sa",
                                    "7": "100055840",
                                    "8": "EXPERT PARIS",
                                    "9": "Z1485258520015",
                                    "10": "2021-01-01",
                                    "11": "9999-12-31",
                                    "12": "Unique",
                                    "13": "Non",
                                    "14": "Non",
                                    "15": "Convention collective nationale des services de l'automobile (commerce et réparation de l'automobile, du cycle et du motocycle, activités connexes, contrôle technique automobile, formation des conducteurs auto-écoles CNPA )",
                                    "16": "Non",
                                    "17": "NULL",
                                    "18": "NULL"
                                },
                                {
                                    "0": "m36vA00003qTt",
                                    "1": "45.20A",
                                    "2": "m36vA00003qTt",
                                    "3": "NULL",
                                    "4": "18 rue des clans 75016 PARIS",
                                    "5": "FR",
                                    "6": "sa",
                                    "7": "100055840",
                                    "8": "EXPERT PARIS",
                                    "9": "Z1485258520015",
                                    "10": "2021-01-01",
                                    "11": "9999-12-31",
                                    "12": "Unique",
                                    "13": "Non",
                                    "14": "Non",
                                    "15": "Convention collective nationale des services de l'automobile (commerce et réparation de l'automobile, du cycle et du motocycle, activités connexes, contrôle technique automobile, formation des conducteurs auto-écoles CNPA )",
                                    "16": "Non",
                                    "17": "NULL",
                                    "18": "NULL"
                                },
                                {
                                    "0": "m36vA00003qTt",
                                    "1": "45.20A",
                                    "2": "m36vA00003qTt",
                                    "3": "NULL",
                                    "4": "18 rue des clans 75016 PARIS",
                                    "5": "FR",
                                    "6": "sa",
                                    "7": "100055840",
                                    "8": "EXPERT PARIS",
                                    "9": "Z1485258520015",
                                    "10": "2021-01-01",
                                    "11": "9999-12-31",
                                    "12": "Unique",
                                    "13": "Non",
                                    "14": "Non",
                                    "15": "Convention collective nationale des services de l'automobile (commerce et réparation de l'automobile, du cycle et du motocycle, activités connexes, contrôle technique automobile, formation des conducteurs auto-écoles CNPA )",
                                    "16": "Non",
                                    "17": "NULL",
                                    "18": "NULL"
                                },
                                {
                                    "0": "m36vA00003qTt",
                                    "1": "45.20A",
                                    "2": "m36vA00003qTt",
                                    "3": "NULL",
                                    "4": "18 rue des clans 75016 PARIS",
                                    "5": "FR",
                                    "6": "sa",
                                    "7": "100055840",
                                    "8": "EXPERT PARIS",
                                    "9": "Z1485258520015",
                                    "10": "2021-01-01",
                                    "11": "9999-12-31",
                                    "12": "Unique",
                                    "13": "Non",
                                    "14": "Non",
                                    "15": "Convention collective nationale des services de l'automobile (commerce et réparation de l'automobile, du cycle et du motocycle, activités connexes, contrôle technique automobile, formation des conducteurs auto-écoles CNPA )",
                                    "16": "Non",
                                    "17": "NULL",
                                    "18": "NULL"
                                },
                                {
                                    "0": "m36vA00003qTt",
                                    "1": "45.20A",
                                    "2": "m36vA00003qTt",
                                    "3": "NULL",
                                    "4": "18 rue des clans 75016 PARIS",
                                    "5": "FR",
                                    "6": "sa",
                                    "7": "100055840",
                                    "8": "EXPERT PARIS",
                                    "9": "Z1485258520015",
                                    "10": "2021-01-01",
                                    "11": "9999-12-31",
                                    "12": "Unique",
                                    "13": "Non",
                                    "14": "Non",
                                    "15": "Convention collective nationale des services de l'automobile (commerce et réparation de l'automobile, du cycle et du motocycle, activités connexes, contrôle technique automobile, formation des conducteurs auto-écoles CNPA )",
                                    "16": "Non",
                                    "17": "NULL",
                                    "18": "NULL"
                                }
                            ]
                        },
                        "text/html": [
                            "<table>",
                            "<tr><th>Etablissement_ID</th><th>CodeNace_FID</th><th>Entreprise_FID</th><th>Departement_CODE</th><th>AdressePostale_CODE</th><th>Pays_CODE</th><th>FormeJuridique_FID</th><th>Etablissement_CODE</th><th>Etablissement_NOM</th><th>Siret_CODE</th><th>Creation_DATE</th><th>Fermeture_DATE</th><th>TypeEtablissement_NOM</th><th>GrandCompte_FLAG</th><th>SocieteMere_FLAG</th><th>ConventionCollective_NOM</th><th>VIP_FLAG</th><th>Telephone_NUM</th><th>CategorieAdresse_FID</th></tr>",
                            "<tr><td>m36vA00003qTt</td><td>45.20A</td><td>m36vA00003qTt</td><td>NULL</td><td>18 rue des clans 75016 PARIS</td><td>FR</td><td>sa</td><td>100055840</td><td>EXPERT PARIS</td><td>Z1485258520015</td><td>2021-01-01</td><td>9999-12-31</td><td>Unique</td><td>Non</td><td>Non</td><td>Convention collective nationale des services de l'automobile (commerce et réparation de l'automobile, du cycle et du motocycle, activités connexes, contrôle technique automobile, formation des conducteurs auto-écoles CNPA )</td><td>Non</td><td>NULL</td><td>NULL</td></tr>",
                            "<tr><td>m36vA00003qTt</td><td>45.20A</td><td>m36vA00003qTt</td><td>NULL</td><td>18 rue des clans 75016 PARIS</td><td>FR</td><td>sa</td><td>100055840</td><td>EXPERT PARIS</td><td>Z1485258520015</td><td>2021-01-01</td><td>9999-12-31</td><td>Unique</td><td>Non</td><td>Non</td><td>Convention collective nationale des services de l'automobile (commerce et réparation de l'automobile, du cycle et du motocycle, activités connexes, contrôle technique automobile, formation des conducteurs auto-écoles CNPA )</td><td>Non</td><td>NULL</td><td>NULL</td></tr>",
                            "<tr><td>m36vA00003qTt</td><td>45.20A</td><td>m36vA00003qTt</td><td>NULL</td><td>18 rue des clans 75016 PARIS</td><td>FR</td><td>sa</td><td>100055840</td><td>EXPERT PARIS</td><td>Z1485258520015</td><td>2021-01-01</td><td>9999-12-31</td><td>Unique</td><td>Non</td><td>Non</td><td>Convention collective nationale des services de l'automobile (commerce et réparation de l'automobile, du cycle et du motocycle, activités connexes, contrôle technique automobile, formation des conducteurs auto-écoles CNPA )</td><td>Non</td><td>NULL</td><td>NULL</td></tr>",
                            "<tr><td>m36vA00003qTt</td><td>45.20A</td><td>m36vA00003qTt</td><td>NULL</td><td>18 rue des clans 75016 PARIS</td><td>FR</td><td>sa</td><td>100055840</td><td>EXPERT PARIS</td><td>Z1485258520015</td><td>2021-01-01</td><td>9999-12-31</td><td>Unique</td><td>Non</td><td>Non</td><td>Convention collective nationale des services de l'automobile (commerce et réparation de l'automobile, du cycle et du motocycle, activités connexes, contrôle technique automobile, formation des conducteurs auto-écoles CNPA )</td><td>Non</td><td>NULL</td><td>NULL</td></tr>",
                            "<tr><td>m36vA00003qTt</td><td>45.20A</td><td>m36vA00003qTt</td><td>NULL</td><td>18 rue des clans 75016 PARIS</td><td>FR</td><td>sa</td><td>100055840</td><td>EXPERT PARIS</td><td>Z1485258520015</td><td>2021-01-01</td><td>9999-12-31</td><td>Unique</td><td>Non</td><td>Non</td><td>Convention collective nationale des services de l'automobile (commerce et réparation de l'automobile, du cycle et du motocycle, activités connexes, contrôle technique automobile, formation des conducteurs auto-écoles CNPA )</td><td>Non</td><td>NULL</td><td>NULL</td></tr>",
                            "<tr><td>m36vA00003qTt</td><td>45.20A</td><td>m36vA00003qTt</td><td>NULL</td><td>18 rue des clans 75016 PARIS</td><td>FR</td><td>sa</td><td>100055840</td><td>EXPERT PARIS</td><td>Z1485258520015</td><td>2021-01-01</td><td>9999-12-31</td><td>Unique</td><td>Non</td><td>Non</td><td>Convention collective nationale des services de l'automobile (commerce et réparation de l'automobile, du cycle et du motocycle, activités connexes, contrôle technique automobile, formation des conducteurs auto-écoles CNPA )</td><td>Non</td><td>NULL</td><td>NULL</td></tr>",
                            "<tr><td>m36vA00003qTt</td><td>45.20A</td><td>m36vA00003qTt</td><td>NULL</td><td>18 rue des clans 75016 PARIS</td><td>FR</td><td>sa</td><td>100055840</td><td>EXPERT PARIS</td><td>Z1485258520015</td><td>2021-01-01</td><td>9999-12-31</td><td>Unique</td><td>Non</td><td>Non</td><td>Convention collective nationale des services de l'automobile (commerce et réparation de l'automobile, du cycle et du motocycle, activités connexes, contrôle technique automobile, formation des conducteurs auto-écoles CNPA )</td><td>Non</td><td>NULL</td><td>NULL</td></tr>",
                            "<tr><td>m36vA00003qTt</td><td>45.20A</td><td>m36vA00003qTt</td><td>NULL</td><td>18 rue des clans 75016 PARIS</td><td>FR</td><td>sa</td><td>100055840</td><td>EXPERT PARIS</td><td>Z1485258520015</td><td>2021-01-01</td><td>9999-12-31</td><td>Unique</td><td>Non</td><td>Non</td><td>Convention collective nationale des services de l'automobile (commerce et réparation de l'automobile, du cycle et du motocycle, activités connexes, contrôle technique automobile, formation des conducteurs auto-écoles CNPA )</td><td>Non</td><td>NULL</td><td>NULL</td></tr>",
                            "<tr><td>m36vA00003qTt</td><td>45.20A</td><td>m36vA00003qTt</td><td>NULL</td><td>18 rue des clans 75016 PARIS</td><td>FR</td><td>sa</td><td>100055840</td><td>EXPERT PARIS</td><td>Z1485258520015</td><td>2021-01-01</td><td>9999-12-31</td><td>Unique</td><td>Non</td><td>Non</td><td>Convention collective nationale des services de l'automobile (commerce et réparation de l'automobile, du cycle et du motocycle, activités connexes, contrôle technique automobile, formation des conducteurs auto-écoles CNPA )</td><td>Non</td><td>NULL</td><td>NULL</td></tr>",
                            "<tr><td>m36vA00003qTt</td><td>45.20A</td><td>m36vA00003qTt</td><td>NULL</td><td>18 rue des clans 75016 PARIS</td><td>FR</td><td>sa</td><td>100055840</td><td>EXPERT PARIS</td><td>Z1485258520015</td><td>2021-01-01</td><td>9999-12-31</td><td>Unique</td><td>Non</td><td>Non</td><td>Convention collective nationale des services de l'automobile (commerce et réparation de l'automobile, du cycle et du motocycle, activités connexes, contrôle technique automobile, formation des conducteurs auto-écoles CNPA )</td><td>Non</td><td>NULL</td><td>NULL</td></tr>",
                            "</table>"
                        ]
                    }
                }
            ],
            "execution_count": 38
        },
        {
            "cell_type": "code",
            "source": [
                "--Nombre de code produit par type d'offre\r\n",
                "SELECT TypeOffre_NOM, count(Produit_CODE)   FROM dbo.T_Dim_Produit where FamilleProduit_NOM in ('collectif','individuel')\r\n",
                "group by TypeOffre_NOM ;"
            ],
            "metadata": {
                "azdata_cell_guid": "4fa4cc97-85e8-407c-8633-462deac91b1a",
                "language": "sql"
            },
            "outputs": [
                {
                    "output_type": "display_data",
                    "data": {
                        "text/html": "(3 rows affected)"
                    },
                    "metadata": {}
                },
                {
                    "output_type": "display_data",
                    "data": {
                        "text/html": "Total execution time: 00:00:00.877"
                    },
                    "metadata": {}
                },
                {
                    "output_type": "execute_result",
                    "metadata": {
                        "azdata_chartOptions": {
                            "type": "bar",
                            "dataDirection": "horizontal",
                            "columnsAsLabels": true,
                            "labelFirstColumn": true,
                            "legendPosition": "top",
                            "yAxisLabel": "Nombre des codes de produits",
                            "xAxisLabel": "Type d'offre"
                        }
                    },
                    "execution_count": 36,
                    "data": {
                        "application/vnd.dataresource+json": {
                            "schema": {
                                "fields": [
                                    {
                                        "name": "TypeOffre_NOM"
                                    },
                                    {
                                        "name": "(No column name)"
                                    }
                                ]
                            },
                            "data": [
                                {
                                    "0": "SUR-MESURE",
                                    "1": "583"
                                },
                                {
                                    "0": "CONVENTIONNEL",
                                    "1": "7"
                                },
                                {
                                    "0": "STANDARD",
                                    "1": "246"
                                }
                            ]
                        },
                        "text/html": [
                            "<table>",
                            "<tr><th>TypeOffre_NOM</th><th>(No column name)</th></tr>",
                            "<tr><td>SUR-MESURE</td><td>583</td></tr>",
                            "<tr><td>CONVENTIONNEL</td><td>7</td></tr>",
                            "<tr><td>STANDARD</td><td>246</td></tr>",
                            "</table>"
                        ]
                    }
                }
            ],
            "execution_count": 36
        },
        {
            "cell_type": "code",
            "source": [
                "--Somme des montants de 4 beneficiaires en 2023\r\n",
                "\r\n",
                "select Beneficiaire_FID as Beneficiaire_FID , sum(Montant_NB) as somme_des_montants\r\n",
                "from dbo.T_Fait_EmissionPrestationSante \r\n",
                "where Beneficiaire_FID in ('wJsQC0000Eoir','wJsQC0000EmuH','wJsQC0000EtpC','wJsQC0000F2jw') \r\n",
                "and EmissionPrestationSante_DATECRE > '2023-01-01'\r\n",
                "group by Beneficiaire_FID ;"
            ],
            "metadata": {
                "language": "sql",
                "azdata_cell_guid": "d371088d-35f6-4f73-97ad-8be577128efb"
            },
            "outputs": [
                {
                    "output_type": "display_data",
                    "data": {
                        "text/html": "(4 rows affected)"
                    },
                    "metadata": {}
                },
                {
                    "output_type": "display_data",
                    "data": {
                        "text/html": "Total execution time: 00:00:00.818"
                    },
                    "metadata": {}
                },
                {
                    "output_type": "execute_result",
                    "metadata": {
                        "azdata_chartOptions": {
                            "type": "pie",
                            "dataDirection": "vertical",
                            "columnsAsLabels": true,
                            "labelFirstColumn": false,
                            "legendPosition": "top",
                            "yAxisLabel": ""
                        }
                    },
                    "execution_count": 33,
                    "data": {
                        "application/vnd.dataresource+json": {
                            "schema": {
                                "fields": [
                                    {
                                        "name": "Beneficiaire_FID"
                                    },
                                    {
                                        "name": "somme_des_montants"
                                    }
                                ]
                            },
                            "data": [
                                {
                                    "0": "wJsQC0000EmuH",
                                    "1": "23877.08"
                                },
                                {
                                    "0": "wJsQC0000EtpC",
                                    "1": "16967.56"
                                },
                                {
                                    "0": "wJsQC0000Eoir",
                                    "1": "3441.80"
                                },
                                {
                                    "0": "wJsQC0000F2jw",
                                    "1": "37157.84"
                                }
                            ]
                        },
                        "text/html": [
                            "<table>",
                            "<tr><th>Beneficiaire_FID</th><th>somme_des_montants</th></tr>",
                            "<tr><td>wJsQC0000EmuH</td><td>23877.08</td></tr>",
                            "<tr><td>wJsQC0000EtpC</td><td>16967.56</td></tr>",
                            "<tr><td>wJsQC0000Eoir</td><td>3441.80</td></tr>",
                            "<tr><td>wJsQC0000F2jw</td><td>37157.84</td></tr>",
                            "</table>"
                        ]
                    }
                }
            ],
            "execution_count": 33
        },
        {
            "cell_type": "code",
            "source": [
                "select TOP 10 EmissionPrestationSante_ID, Beneficiaire_FID,Destinataire_FID,StatutPrestation_FID,\r\n",
                "ModePaiement_FID,DebitCredit_NOM,Montant_NB,EmissionPrestationSante_DATECRE \r\n",
                "from dbo.T_Fait_EmissionPrestationSante ;\r\n",
                ""
            ],
            "metadata": {
                "azdata_cell_guid": "633df5a7-91bd-4d5f-b9a7-f3c984391671",
                "language": "sql",
                "tags": []
            },
            "outputs": [
                {
                    "output_type": "display_data",
                    "data": {
                        "text/html": "(10 rows affected)"
                    },
                    "metadata": {}
                },
                {
                    "output_type": "display_data",
                    "data": {
                        "text/html": "Total execution time: 00:00:00.258"
                    },
                    "metadata": {}
                },
                {
                    "output_type": "execute_result",
                    "metadata": {},
                    "execution_count": 3,
                    "data": {
                        "application/vnd.dataresource+json": {
                            "schema": {
                                "fields": [
                                    {
                                        "name": "EmissionPrestationSante_ID"
                                    },
                                    {
                                        "name": "Beneficiaire_FID"
                                    },
                                    {
                                        "name": "Destinataire_FID"
                                    },
                                    {
                                        "name": "StatutPrestation_FID"
                                    },
                                    {
                                        "name": "ModePaiement_FID"
                                    },
                                    {
                                        "name": "DebitCredit_NOM"
                                    },
                                    {
                                        "name": "Montant_NB"
                                    },
                                    {
                                        "name": "EmissionPrestationSante_DATECRE"
                                    }
                                ]
                            },
                            "data": [
                                {
                                    "0": "0IMEC00000ido",
                                    "1": "wJsQC0000Eoir",
                                    "2": "wJsQC0000Eoir",
                                    "3": "paid_o_bal",
                                    "4": "drctcrdt",
                                    "5": "crédit",
                                    "6": "0.20",
                                    "7": "2023-03-27"
                                },
                                {
                                    "0": "0IMEC00000f00",
                                    "1": "wJsQC0000EmuH",
                                    "2": "wJsQC0000EmuH",
                                    "3": "paid_o_bal",
                                    "4": "drctcrdt",
                                    "5": "crédit",
                                    "6": "102.84",
                                    "7": "2023-03-27"
                                },
                                {
                                    "0": "0IMEC00000fZh",
                                    "1": "wJsQC0000EujK",
                                    "2": "wJsQC0000EujK",
                                    "3": "paid_o_bal",
                                    "4": "drctcrdt",
                                    "5": "crédit",
                                    "6": "60.00",
                                    "7": "2023-03-27"
                                },
                                {
                                    "0": "0IMEC00000iAj",
                                    "1": "wJsQC0000F2jw",
                                    "2": "wJsQC0000F2jw",
                                    "3": "paid_o_bal",
                                    "4": "drctcrdt",
                                    "5": "crédit",
                                    "6": "1420.00",
                                    "7": "2023-03-27"
                                },
                                {
                                    "0": "0IMEC00000fZz",
                                    "1": "wJsQC0000EhBa",
                                    "2": "wJsQC0000EhBa",
                                    "3": "paid_o_bal",
                                    "4": "drctcrdt",
                                    "5": "crédit",
                                    "6": "800.00",
                                    "7": "2023-03-27"
                                },
                                {
                                    "0": "0IMEC00000T3R",
                                    "1": "wJsQC0000DIuC",
                                    "2": "wJsQC0000DIuC",
                                    "3": "paid_o_bal",
                                    "4": "drctcrdt",
                                    "5": "crédit",
                                    "6": "30.00",
                                    "7": "2023-03-27"
                                },
                                {
                                    "0": "0IMEC00000fS9",
                                    "1": "wJsQC0000EtpC",
                                    "2": "wJsQC0000EtpC",
                                    "3": "paid_o_bal",
                                    "4": "drctcrdt",
                                    "5": "crédit",
                                    "6": "0.00",
                                    "7": "2023-03-27"
                                },
                                {
                                    "0": "0IMEC00000bPD",
                                    "1": "wJsQC0000EdSR",
                                    "2": "wJsQC0000EdSR",
                                    "3": "paid_o_bal",
                                    "4": "drctcrdt",
                                    "5": "crédit",
                                    "6": "107.50",
                                    "7": "2023-03-27"
                                },
                                {
                                    "0": "0IMEC00000g2y",
                                    "1": "wJsQC0000Ew0W",
                                    "2": "wJsQC0000Ew0W",
                                    "3": "paid_o_bal",
                                    "4": "drctcrdt",
                                    "5": "crédit",
                                    "6": "2.73",
                                    "7": "2023-03-27"
                                },
                                {
                                    "0": "0IMEC00000a8C",
                                    "1": "wJsQC0000EMjA",
                                    "2": "wJsQC0000EMjA",
                                    "3": "paid_o_bal",
                                    "4": "drctcrdt",
                                    "5": "crédit",
                                    "6": "6.60",
                                    "7": "2023-03-27"
                                }
                            ]
                        },
                        "text/html": [
                            "<table>",
                            "<tr><th>EmissionPrestationSante_ID</th><th>Beneficiaire_FID</th><th>Destinataire_FID</th><th>StatutPrestation_FID</th><th>ModePaiement_FID</th><th>DebitCredit_NOM</th><th>Montant_NB</th><th>EmissionPrestationSante_DATECRE</th></tr>",
                            "<tr><td>0IMEC00000ido</td><td>wJsQC0000Eoir</td><td>wJsQC0000Eoir</td><td>paid_o_bal</td><td>drctcrdt</td><td>crédit</td><td>0.20</td><td>2023-03-27</td></tr>",
                            "<tr><td>0IMEC00000f00</td><td>wJsQC0000EmuH</td><td>wJsQC0000EmuH</td><td>paid_o_bal</td><td>drctcrdt</td><td>crédit</td><td>102.84</td><td>2023-03-27</td></tr>",
                            "<tr><td>0IMEC00000fZh</td><td>wJsQC0000EujK</td><td>wJsQC0000EujK</td><td>paid_o_bal</td><td>drctcrdt</td><td>crédit</td><td>60.00</td><td>2023-03-27</td></tr>",
                            "<tr><td>0IMEC00000iAj</td><td>wJsQC0000F2jw</td><td>wJsQC0000F2jw</td><td>paid_o_bal</td><td>drctcrdt</td><td>crédit</td><td>1420.00</td><td>2023-03-27</td></tr>",
                            "<tr><td>0IMEC00000fZz</td><td>wJsQC0000EhBa</td><td>wJsQC0000EhBa</td><td>paid_o_bal</td><td>drctcrdt</td><td>crédit</td><td>800.00</td><td>2023-03-27</td></tr>",
                            "<tr><td>0IMEC00000T3R</td><td>wJsQC0000DIuC</td><td>wJsQC0000DIuC</td><td>paid_o_bal</td><td>drctcrdt</td><td>crédit</td><td>30.00</td><td>2023-03-27</td></tr>",
                            "<tr><td>0IMEC00000fS9</td><td>wJsQC0000EtpC</td><td>wJsQC0000EtpC</td><td>paid_o_bal</td><td>drctcrdt</td><td>crédit</td><td>0.00</td><td>2023-03-27</td></tr>",
                            "<tr><td>0IMEC00000bPD</td><td>wJsQC0000EdSR</td><td>wJsQC0000EdSR</td><td>paid_o_bal</td><td>drctcrdt</td><td>crédit</td><td>107.50</td><td>2023-03-27</td></tr>",
                            "<tr><td>0IMEC00000g2y</td><td>wJsQC0000Ew0W</td><td>wJsQC0000Ew0W</td><td>paid_o_bal</td><td>drctcrdt</td><td>crédit</td><td>2.73</td><td>2023-03-27</td></tr>",
                            "<tr><td>0IMEC00000a8C</td><td>wJsQC0000EMjA</td><td>wJsQC0000EMjA</td><td>paid_o_bal</td><td>drctcrdt</td><td>crédit</td><td>6.60</td><td>2023-03-27</td></tr>",
                            "</table>"
                        ]
                    }
                }
            ],
            "execution_count": 3
        }
    ]
}