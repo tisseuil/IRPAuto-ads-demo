{
    "metadata": {
        "kernelspec": {
            "name": "SQL",
            "display_name": "SQL",
            "language": "sql"
        },
        "language_info": {
            "name": "sql",
            "version": ""
        }
    },
    "nbformat_minor": 2,
    "nbformat": 4,
    "cells": [
        {
            "cell_type": "code",
            "source": [
                "EXECUTE sp_execute_external_script @language = N'Python'\r\n",
                "    , @script = N'\r\n",
                "\r\n",
                "a = 1\r\n",
                "b = 2\r\n",
                "c = a/b\r\n",
                "d = a*b\r\n",
                "print(c, d)\r\n",
                "fdzfzfcdefdfss\r\n",
                "\r\n",
                "'"
            ],
            "metadata": {
                "azdata_cell_guid": "6430ddae-3b02-49d5-88a9-c2dbaf18ab1e",
                "language": "sql"
            },
            "outputs": [
                {
                    "output_type": "error",
                    "ename": "",
                    "evalue": "Msg 104386, Level 16, State 1, Line 1\r\nStored procedure sp_execute_external_script does not exist or is not supported.",
                    "traceback": []
                },
                {
                    "output_type": "display_data",
                    "data": {
                        "text/html": "Total execution time: 00:00:00.427"
                    },
                    "metadata": {}
                }
            ],
            "execution_count": 1
        }
    ]
}