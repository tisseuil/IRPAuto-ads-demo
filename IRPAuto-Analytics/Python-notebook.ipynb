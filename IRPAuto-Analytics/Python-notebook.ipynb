{
    "metadata": {
        "kernelspec": {
            "name": "python3",
            "display_name": "Python 3 (ipykernel)",
            "language": "python"
        },
        "language_info": {
            "name": "python",
            "version": "3.8.10",
            "mimetype": "text/x-python",
            "codemirror_mode": {
                "name": "ipython",
                "version": 3
            },
            "pygments_lexer": "ipython3",
            "nbconvert_exporter": "python",
            "file_extension": ".py"
        }
    },
    "nbformat_minor": 2,
    "nbformat": 4,
    "cells": [
        {
            "cell_type": "code",
            "source": [
                "#demo with python // to do\r\n",
                "print(\"test\")"
            ],
            "metadata": {
                "azdata_cell_guid": "e80361e3-ebd2-4068-9931-e755faf104f5",
                "language": "python"
            },
            "outputs": [
                {
                    "name": "stdout",
                    "text": "test\n",
                    "output_type": "stream"
                }
            ],
            "execution_count": 1
        }
    ]
}